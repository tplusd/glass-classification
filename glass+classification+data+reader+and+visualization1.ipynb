{
 "cells": [
  {
   "cell_type": "code",
   "execution_count": 12,
   "metadata": {},
   "outputs": [
    {
     "name": "stdout",
     "output_type": "stream",
     "text": [
      "   Id       RI     Na    Mg    Al     Si     K    Ca   Ba   Fe  Type\n",
      "0   1  1.52101  13.64  4.49  1.10  71.78  0.06  8.75  0.0  0.0     1\n",
      "1   2  1.51761  13.89  3.60  1.36  72.73  0.48  7.83  0.0  0.0     1\n",
      "2   3  1.51618  13.53  3.55  1.54  72.99  0.39  7.78  0.0  0.0     1\n",
      "3   4  1.51766  13.21  3.69  1.29  72.61  0.57  8.22  0.0  0.0     1\n",
      "4   5  1.51742  13.27  3.62  1.24  73.08  0.55  8.07  0.0  0.0     1\n",
      "               Id          RI          Na          Mg          Al          Si  \\\n",
      "count  214.000000  214.000000  214.000000  214.000000  214.000000  214.000000   \n",
      "mean   107.500000    1.518365   13.407850    2.684533    1.444907   72.650935   \n",
      "std     61.920648    0.003037    0.816604    1.442408    0.499270    0.774546   \n",
      "min      1.000000    1.511150   10.730000    0.000000    0.290000   69.810000   \n",
      "25%     54.250000    1.516523   12.907500    2.115000    1.190000   72.280000   \n",
      "50%    107.500000    1.517680   13.300000    3.480000    1.360000   72.790000   \n",
      "75%    160.750000    1.519157   13.825000    3.600000    1.630000   73.087500   \n",
      "max    214.000000    1.533930   17.380000    4.490000    3.500000   75.410000   \n",
      "\n",
      "                K          Ca          Ba          Fe        Type  \n",
      "count  214.000000  214.000000  214.000000  214.000000  214.000000  \n",
      "mean     0.497056    8.956963    0.175047    0.057009    2.780374  \n",
      "std      0.652192    1.423153    0.497219    0.097439    2.103739  \n",
      "min      0.000000    5.430000    0.000000    0.000000    1.000000  \n",
      "25%      0.122500    8.240000    0.000000    0.000000    1.000000  \n",
      "50%      0.555000    8.600000    0.000000    0.000000    2.000000  \n",
      "75%      0.610000    9.172500    0.000000    0.100000    3.000000  \n",
      "max      6.210000   16.190000    3.150000    0.510000    7.000000  \n",
      "        RI     Na    Mg    Al     Si     K    Ca   Ba   Fe  Type\n",
      "0  1.52101  13.64  4.49  1.10  71.78  0.06  8.75  0.0  0.0     1\n",
      "1  1.51761  13.89  3.60  1.36  72.73  0.48  7.83  0.0  0.0     1\n",
      "2  1.51618  13.53  3.55  1.54  72.99  0.39  7.78  0.0  0.0     1\n",
      "3  1.51766  13.21  3.69  1.29  72.61  0.57  8.22  0.0  0.0     1\n",
      "4  1.51742  13.27  3.62  1.24  73.08  0.55  8.07  0.0  0.0     1\n",
      "10\n",
      "               RI          Na          Mg          Al          Si           K  \\\n",
      "count  214.000000  214.000000  214.000000  214.000000  214.000000  214.000000   \n",
      "mean     1.518365   13.407850    2.684533    1.444907   72.650935    0.497056   \n",
      "std      0.003037    0.816604    1.442408    0.499270    0.774546    0.652192   \n",
      "min      1.511150   10.730000    0.000000    0.290000   69.810000    0.000000   \n",
      "25%      1.516523   12.907500    2.115000    1.190000   72.280000    0.122500   \n",
      "50%      1.517680   13.300000    3.480000    1.360000   72.790000    0.555000   \n",
      "75%      1.519157   13.825000    3.600000    1.630000   73.087500    0.610000   \n",
      "max      1.533930   17.380000    4.490000    3.500000   75.410000    6.210000   \n",
      "\n",
      "               Ca          Ba          Fe        Type  \n",
      "count  214.000000  214.000000  214.000000  214.000000  \n",
      "mean     8.956963    0.175047    0.057009    2.780374  \n",
      "std      1.423153    0.497219    0.097439    2.103739  \n",
      "min      5.430000    0.000000    0.000000    1.000000  \n",
      "25%      8.240000    0.000000    0.000000    1.000000  \n",
      "50%      8.600000    0.000000    0.000000    2.000000  \n",
      "75%      9.172500    0.000000    0.100000    3.000000  \n",
      "max     16.190000    3.150000    0.510000    7.000000  \n",
      "         RI        Na        Mg        Al        Si         K        Ca  \\\n",
      "0  0.870826  0.284287  1.251704 -0.690822 -1.124446 -0.670134 -0.145425   \n",
      "1 -0.248750  0.590433  0.634680 -0.170061  0.102080 -0.026152 -0.791877   \n",
      "2 -0.719631  0.149582  0.600016  0.190465  0.437760 -0.164148 -0.827010   \n",
      "3 -0.232286 -0.242285  0.697076 -0.310266 -0.052850  0.111844 -0.517838   \n",
      "4 -0.311315 -0.168810  0.648546 -0.410413  0.553957  0.081178 -0.623237   \n",
      "\n",
      "         Ba        Fe     Type  \n",
      "0 -0.352051 -0.585079 -0.84629  \n",
      "1 -0.352051 -0.585079 -0.84629  \n",
      "2 -0.352051 -0.585079 -0.84629  \n",
      "3 -0.352051 -0.585079 -0.84629  \n",
      "4 -0.352051 -0.585079 -0.84629  \n"
     ]
    },
    {
     "data": {
      "image/png": "[encoded data removed]",
      "text/plain": [
       "<matplotlib.figure.Figure at 0x1fbaacbe860>"
      ]
     },
     "metadata": {},
     "output_type": "display_data"
    }
   ],
   "source": [
    "import numpy as np\n",
    "import pandas as pd\n",
    "from pylab import *\n",
    "import matplotlib.pyplot as plot\n",
    "\n",
    "target_url = (\"http://archive.ics.uci.edu/ml/machine-learning-databases/glass/glass.data\")\n",
    "glass = pd.read_csv(target_url,header=None,prefix=\"V\")\n",
    "\n",
    "glass.columns=['Id','RI','Na','Mg','Al','Si','K','Ca','Ba','Fe','Type']\n",
    "print(glass.head())\n",
    "\n",
    "summary = glass.describe()\n",
    "print(summary)\n",
    "ncol = len(glass.columns)\n",
    "\n",
    "glass_normalized = glass.iloc[:,1:ncol]\n",
    "ncol2 = len(glass_normalized.columns)\n",
    "print(glass_normalized.head())\n",
    "print(ncol2)\n",
    "\n",
    "summary2 = glass_normalized.describe()\n",
    "print(summary2)\n",
    "for i in range(ncol2):\n",
    "    mean = summary2.iloc[1,i]\n",
    "    std = summary2.iloc[2,i]\n",
    "    glass_normalized.iloc[:,i] = (glass_normalized.iloc[:,i]-mean)/std\n",
    "\n",
    "print(glass_normalized.head())\n",
    "array = glass_normalized.values\n",
    "boxplot(array)\n",
    "plot.xlabel(\"feature index\")\n",
    "plot.ylabel(\"quartile ranges - normalized\")\n",
    "show()\n",
    "\n",
    "\n",
    "    \n",
    "\n",
    "\n"
   ]
  },
  {
   "cell_type": "code",
   "execution_count": null,
   "metadata": {
    "collapsed": true
   },
   "outputs": [],
   "source": []
  }
 ],
 "metadata": {
  "kernelspec": {
   "display_name": "Python 3",
   "language": "python",
   "name": "python3"
  },
  "language_info": {
   "codemirror_mode": {
    "name": "ipython",
    "version": 3
   },
   "file_extension": ".py",
   "mimetype": "text/x-python",
   "name": "python",
   "nbconvert_exporter": "python",
   "pygments_lexer": "ipython3",
   "version": "3.6.1"
  }
 },
 "nbformat": 4,
 "nbformat_minor": 2
}
